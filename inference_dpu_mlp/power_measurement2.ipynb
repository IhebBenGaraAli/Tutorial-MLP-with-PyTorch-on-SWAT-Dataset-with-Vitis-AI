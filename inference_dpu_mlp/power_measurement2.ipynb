{
 "cells": [
  {
   "cell_type": "code",
   "execution_count": 1,
   "id": "76f07608",
   "metadata": {},
   "outputs": [],
   "source": [
    "import matplotlib.pyplot as plt\n",
    "from time import time, sleep\n",
    "import pandas as pd\n",
    "import subprocess\n",
    "import numpy as np\n",
    "from scipy import integrate"
   ]
  },
  {
   "cell_type": "code",
   "execution_count": 2,
   "id": "7c5fc424",
   "metadata": {},
   "outputs": [],
   "source": [
    "# Chemin du fichier de mesure de puissance\n",
    "path = \"/sys/class/hwmon/hwmon1/\"\n",
    "file = \"power1_input\"\n",
    "power_file = path + file"
   ]
  },
  {
   "cell_type": "code",
   "execution_count": 3,
   "id": "0bc71c76",
   "metadata": {},
   "outputs": [],
   "source": [
    "# Fonction pour lire la puissance\n",
    "def read_power():\n",
    "    with open(power_file, \"r\") as f:\n",
    "        return int(f.read()) / 1000  # Convertir en watts"
   ]
  },
  {
   "cell_type": "code",
   "execution_count": 4,
   "id": "028dc631",
   "metadata": {},
   "outputs": [],
   "source": [
    "# Initialiser les listes de stockage des mesures\n",
    "power = []\n",
    "t = []\n",
    "init = time()\n",
    "ventana = 1\n",
    "t_total = 70  # Durée totale de mesure (en secondes)\n",
    "actual = time()"
   ]
  },
  {
   "cell_type": "code",
   "execution_count": 5,
   "id": "9905a1cb",
   "metadata": {},
   "outputs": [
    {
     "name": "stdout",
     "output_type": "stream",
     "text": [
      "Mesure de la consommation AVANT l'exécution du script...\n"
     ]
    }
   ],
   "source": [
    "# Mesurer la puissance avant l'exécution du script \n",
    "print(\"Mesure de la consommation AVANT l'exécution du script...\")\n",
    "pre_time = 20  # Durée d'observation avant lancement (secondes)\n",
    "for _ in range(int(pre_time / 0.1)):  # Prendre des mesures toutes les 0.1s\n",
    "    t.append(time() - init)\n",
    "    power.append(read_power())\n",
    "    sleep(0.1)"
   ]
  },
  {
   "cell_type": "code",
   "execution_count": 6,
   "id": "4e2cf344",
   "metadata": {},
   "outputs": [
    {
     "name": "stdout",
     "output_type": "stream",
     "text": [
      "Démarrage du script mlp_dpu.py...\n",
      "Précision: 93.87%\n"
     ]
    },
    {
     "data": {
      "text/plain": [
       "0"
      ]
     },
     "execution_count": 6,
     "metadata": {},
     "output_type": "execute_result"
    }
   ],
   "source": [
    "#  Lancer le script en arrière-plan \n",
    "print(\"Démarrage du script mlp_dpu.py...\")\n",
    "process = subprocess.Popen([\"python3\", \"mlp_dpu.py\"])\n",
    "\n",
    "# Mesurer la consommation pendant l'exécution du script\n",
    "while ventana:\n",
    "    if time() > actual + 0.1:  # Mesurer toutes les 0.1 seconde\n",
    "        t.append(time() - init)\n",
    "        power.append(read_power())\n",
    "        actual = time()\n",
    "\n",
    "    # Arrêter la mesure après t_total secondes ou si le script est terminé\n",
    "    if (time() - init) > t_total or process.poll() is not None:\n",
    "        ventana = 0\n",
    "\n",
    "# Attendre que le script se termine (au cas où il dure moins que t_total)\n",
    "process.wait()"
   ]
  },
  {
   "cell_type": "code",
   "execution_count": 7,
   "id": "f5a58e0f",
   "metadata": {},
   "outputs": [
    {
     "name": "stdout",
     "output_type": "stream",
     "text": [
      "Mesure de la consommation APRÈS l'exécution du script...\n"
     ]
    }
   ],
   "source": [
    "#  Mesurer la consommation après l'exécution du script \n",
    "print(\"Mesure de la consommation APRÈS l'exécution du script...\")\n",
    "post_time = 20  # Durée d'observation après exécution (secondes)\n",
    "for _ in range(int(post_time / 0.1)):  # Mesurer toutes les 0.1s\n",
    "    t.append(time() - init)\n",
    "    power.append(read_power())\n",
    "    sleep(0.1)"
   ]
  },
  {
   "cell_type": "code",
   "execution_count": 14,
   "id": "fc0bb644",
   "metadata": {},
   "outputs": [
    {
     "data": {
      "image/png": "[encoded data removed]",
      "text/plain": [
       "<Figure size 432x288 with 1 Axes>"
      ]
     },
     "metadata": {
      "needs_background": "light"
     },
     "output_type": "display_data"
    }
   ],
   "source": [
    "#  Tracer la courbe de puissance \n",
    "plt.plot(t, power, label=\"Consommation d'énergie\")\n",
    "plt.axvline(pre_time, color=\"green\", linestyle=\"--\", label=\"Début exécution\")\n",
    "plt.axvline(t[-1] - post_time, color=\"red\", linestyle=\"--\", label=\"Fin exécution\")\n",
    "plt.xlabel(\"Temps (s)\")\n",
    "plt.ylabel(\"Puissance (W)\")\n",
    "plt.title(\"Consommation d'énergie avant, pendant et après l'exécution\")\n",
    "plt.legend()\n",
    "plt.savefig(\"consommation_energie.png\", dpi=300, bbox_inches='tight')\n",
    "plt.show()"
   ]
  },
  {
   "cell_type": "code",
   "execution_count": 9,
   "id": "863ce2b4",
   "metadata": {},
   "outputs": [],
   "source": [
    "#Sauvegarder les données dans un fichier CSV \n",
    "df = pd.DataFrame(data={\"temps\": t, \"puissance\": power})\n",
    "df.to_csv(\"power_measurement.csv\", index=False)"
   ]
  },
  {
   "cell_type": "code",
   "execution_count": 10,
   "id": "0d3b20b5",
   "metadata": {},
   "outputs": [
    {
     "name": "stdout",
     "output_type": "stream",
     "text": [
      "Énergie totale consommée : 952.56 Joules\n"
     ]
    }
   ],
   "source": [
    "# Calculer l'énergie totale consommée \n",
    "power_np = np.array(power) / 1000  # Convertir en kW pour l'intégration\n",
    "energy = integrate.simpson(power_np, x=t)\n",
    "print(f\"Énergie totale consommée : {energy:.2f} Joules\")"
   ]
  },
  {
   "cell_type": "code",
   "execution_count": 11,
   "id": "5330a886",
   "metadata": {},
   "outputs": [
    {
     "name": "stdout",
     "output_type": "stream",
     "text": [
      "Puissance moyenne : 5.15 W\n"
     ]
    }
   ],
   "source": [
    "# Afficher la puissance moyenne\n",
    "mean_power = np.mean(power_np)\n",
    "print(f\"Puissance moyenne : {mean_power:.2f} W\")"
   ]
  }
 ],
 "metadata": {
  "kernelspec": {
   "display_name": "Python 3 (ipykernel)",
   "language": "python",
   "name": "python3"
  },
  "language_info": {
   "codemirror_mode": {
    "name": "ipython",
    "version": 3
   },
   "file_extension": ".py",
   "mimetype": "text/x-python",
   "name": "python",
   "nbconvert_exporter": "python",
   "pygments_lexer": "ipython3",
   "version": "3.10.4"
  }
 },
 "nbformat": 4,
 "nbformat_minor": 5
}
