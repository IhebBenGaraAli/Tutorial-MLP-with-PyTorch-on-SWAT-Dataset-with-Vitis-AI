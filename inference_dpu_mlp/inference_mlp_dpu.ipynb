{
 "cells": [
  {
   "cell_type": "code",
   "execution_count": 1,
   "id": "285947eb",
   "metadata": {},
   "outputs": [],
   "source": [
    "from pynq_dpu import DpuOverlay\n",
    "import numpy as np\n",
    "import pandas as pd\n",
    "\n",
    "from sklearn.preprocessing import StandardScaler\n",
    "from sklearn.metrics import accuracy_score"
   ]
  },
  {
   "cell_type": "code",
   "execution_count": 2,
   "id": "f1683380",
   "metadata": {},
   "outputs": [
    {
     "data": {
      "application/javascript": [
       "\n",
       "try {\n",
       "require(['notebook/js/codecell'], function(codecell) {\n",
       "  codecell.CodeCell.options_default.highlight_modes[\n",
       "      'magic_text/x-csrc'] = {'reg':[/^%%microblaze/]};\n",
       "  Jupyter.notebook.events.one('kernel_ready.Kernel', function(){\n",
       "      Jupyter.notebook.get_cells().map(function(cell){\n",
       "          if (cell.cell_type == 'code'){ cell.auto_highlight(); } }) ;\n",
       "  });\n",
       "});\n",
       "} catch (e) {};\n"
      ]
     },
     "metadata": {},
     "output_type": "display_data"
    },
    {
     "data": {
      "application/javascript": [
       "\n",
       "try {\n",
       "require(['notebook/js/codecell'], function(codecell) {\n",
       "  codecell.CodeCell.options_default.highlight_modes[\n",
       "      'magic_text/x-csrc'] = {'reg':[/^%%pybind11/]};\n",
       "  Jupyter.notebook.events.one('kernel_ready.Kernel', function(){\n",
       "      Jupyter.notebook.get_cells().map(function(cell){\n",
       "          if (cell.cell_type == 'code'){ cell.auto_highlight(); } }) ;\n",
       "  });\n",
       "});\n",
       "} catch (e) {};\n"
      ]
     },
     "metadata": {},
     "output_type": "display_data"
    }
   ],
   "source": [
    "# Charger l'overlay du DPU\n",
    "overlay = DpuOverlay(\"dpu.bit\")\n",
    "overlay.load_model(\"_MLP_int.xmodel.xmodel\") "
   ]
  },
  {
   "cell_type": "code",
   "execution_count": 3,
   "id": "5f5e2890",
   "metadata": {},
   "outputs": [],
   "source": [
    "dpu = overlay.runner  # Récupérer le runner"
   ]
  },
  {
   "cell_type": "code",
   "execution_count": 4,
   "id": "e0bc83d8",
   "metadata": {},
   "outputs": [],
   "source": [
    "# Charger la dataset\n",
    "file_path = \"SWaT_Dataset_Attack_v0.csv\"\n",
    "df = pd.read_csv(file_path)"
   ]
  },
  {
   "cell_type": "code",
   "execution_count": 5,
   "id": "ceee3de9",
   "metadata": {},
   "outputs": [],
   "source": [
    "X = df.iloc[:, :-1].values  # Features\n",
    "y = df.iloc[:, -1].values   # Labels"
   ]
  },
  {
   "cell_type": "code",
   "execution_count": 6,
   "id": "eddae7c6",
   "metadata": {},
   "outputs": [],
   "source": [
    "# Encoder les labels: \"Normal\" -> 0, \"Attack\" -> 1\n",
    "y = np.where(y == \"Normal\", 0, 1)"
   ]
  },
  {
   "cell_type": "code",
   "execution_count": 7,
   "id": "a6fac214",
   "metadata": {},
   "outputs": [],
   "source": [
    "# Normalisation des données\n",
    "scaler = StandardScaler()\n",
    "X = scaler.fit_transform(X)"
   ]
  },
  {
   "cell_type": "code",
   "execution_count": 8,
   "id": "ba093256",
   "metadata": {},
   "outputs": [],
   "source": [
    "# Sélection de 50000 échantillons \"Normal\" et 50000 \"Attack\"\n",
    "normal_samples = X[y == 0][:50000]\n",
    "attack_samples = X[y == 1][:50000]\n",
    "test_samples = np.vstack((normal_samples, attack_samples)).astype(np.float32)"
   ]
  },
  {
   "cell_type": "code",
   "execution_count": 9,
   "id": "d312e318",
   "metadata": {},
   "outputs": [
    {
     "data": {
      "text/plain": [
       "100000"
      ]
     },
     "execution_count": 9,
     "metadata": {},
     "output_type": "execute_result"
    }
   ],
   "source": [
    "test_samples.shape[0]"
   ]
  },
  {
   "cell_type": "code",
   "execution_count": 10,
   "id": "672253f6",
   "metadata": {},
   "outputs": [],
   "source": [
    "# Récupérer les tenseurs d'entrée et de sortie du DPU\n",
    "inputTensors = dpu.get_input_tensors()\n",
    "outputTensors = dpu.get_output_tensors()"
   ]
  },
  {
   "cell_type": "code",
   "execution_count": 11,
   "id": "1dd36ca0",
   "metadata": {},
   "outputs": [],
   "source": [
    "shapeIn = tuple(inputTensors[0].dims)  # Forme des entrées\n",
    "shapeOut = tuple(outputTensors[0].dims)  # Forme des sorties\n",
    "batch_size = shapeIn[0]  # Taille du batch du DPU"
   ]
  },
  {
   "cell_type": "code",
   "execution_count": 12,
   "id": "a7ba43a8",
   "metadata": {},
   "outputs": [],
   "source": [
    "# Préparer les buffers d'entrée et de sortie\n",
    "input_data = [np.empty(shapeIn, dtype=np.float32, order=\"C\")]\n",
    "output_data = [np.empty(shapeOut, dtype=np.float32, order=\"C\")]"
   ]
  },
  {
   "cell_type": "code",
   "execution_count": 13,
   "id": "ef585c51",
   "metadata": {},
   "outputs": [],
   "source": [
    "# Stocker les résultats de prédiction\n",
    "predictions = []"
   ]
  },
  {
   "cell_type": "code",
   "execution_count": 14,
   "id": "0b90aa44",
   "metadata": {},
   "outputs": [],
   "source": [
    "# Exécuter l'inférence batch par batch\n",
    "for i in range(0, test_samples.shape[0], batch_size):\n",
    "    batch = test_samples[i : i + batch_size]\n",
    "\n",
    "    # S'assurer que la taille correspond au tenseur du DPU\n",
    "    if batch.shape[0] < batch_size:\n",
    "        pad = np.zeros((batch_size - batch.shape[0], batch.shape[1]), dtype=np.float32)\n",
    "        batch = np.vstack((batch, pad))  # Ajouter du padding si nécessaire\n",
    "\n",
    "    # Copier les données dans le buffer d'entrée\n",
    "    input_data[0][:] = batch.reshape(shapeIn)\n",
    "\n",
    "    # Lancer l'inférence\n",
    "    job_id = dpu.execute_async(input_data, output_data)\n",
    "    dpu.wait(job_id)\n",
    "\n",
    "    # Récupérer les résultats\n",
    "    result = output_data[0][: batch.shape[0]]  # Enlever le padding éventuel\n",
    "    predictions.append(np.argmax(result, axis=1))"
   ]
  },
  {
   "cell_type": "code",
   "execution_count": 15,
   "id": "8fadc965",
   "metadata": {},
   "outputs": [],
   "source": [
    "# Convertir la liste en un tableau numpy\n",
    "predicted = np.concatenate(predictions, axis=0)[: test_samples.shape[0]]  # Supprimer le padding"
   ]
  },
  {
   "cell_type": "code",
   "execution_count": 16,
   "id": "8a15918b",
   "metadata": {},
   "outputs": [
    {
     "name": "stdout",
     "output_type": "stream",
     "text": [
      "Précision: 93.87%\n"
     ]
    }
   ],
   "source": [
    "# Calculer l'accuracy manuellement\n",
    "accuracy = np.mean(y[:100000] == predicted)\n",
    "\n",
    "# Afficher la précision en pourcentage\n",
    "print(f\"Précision: {accuracy * 100:.2f}%\")"
   ]
  },
  {
   "cell_type": "code",
   "execution_count": 17,
   "id": "1bef7373",
   "metadata": {},
   "outputs": [],
   "source": [
    "del dpu"
   ]
  },
  {
   "cell_type": "code",
   "execution_count": 18,
   "id": "914c0710",
   "metadata": {},
   "outputs": [],
   "source": [
    "del overlay"
   ]
  },
  {
   "cell_type": "code",
   "execution_count": null,
   "id": "10af6bef",
   "metadata": {},
   "outputs": [],
   "source": []
  }
 ],
 "metadata": {
  "kernelspec": {
   "display_name": "Python 3 (ipykernel)",
   "language": "python",
   "name": "python3"
  },
  "language_info": {
   "codemirror_mode": {
    "name": "ipython",
    "version": 3
   },
   "file_extension": ".py",
   "mimetype": "text/x-python",
   "name": "python",
   "nbconvert_exporter": "python",
   "pygments_lexer": "ipython3",
   "version": "3.12.3"
  }
 },
 "nbformat": 4,
 "nbformat_minor": 5
}
