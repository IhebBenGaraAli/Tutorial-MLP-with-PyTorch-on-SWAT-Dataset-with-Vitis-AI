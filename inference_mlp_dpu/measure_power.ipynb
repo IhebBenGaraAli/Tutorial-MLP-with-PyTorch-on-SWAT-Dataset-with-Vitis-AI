{
 "cells": [
  {
   "cell_type": "code",
   "execution_count": null,
   "id": "45baf230-9393-42d3-842e-86f773134db7",
   "metadata": {},
   "outputs": [],
   "source": []
  }
 ],
 "metadata": {
  "kernelspec": {
   "display_name": "",
   "name": ""
  },
  "language_info": {
   "name": ""
  }
 },
 "nbformat": 4,
 "nbformat_minor": 5
}
