{
 "cells": [
  {
   "cell_type": "code",
   "execution_count": null,
   "id": "4e0e8dba-a739-4788-98ae-31f5d4c921df",
   "metadata": {},
   "outputs": [],
   "source": [
    "from pynq_dpu import DpuOverlay\n",
    "import numpy as np\n",
    "import pandas as pd\n",
    "\n",
    "from sklearn.preprocessing import StandardScaler\n",
    "from sklearn.metrics import accuracy_score"
   ]
  },
  {
   "cell_type": "code",
   "execution_count": null,
   "id": "ac8dc41b-707e-4788-8946-33f9dd2cf7ec",
   "metadata": {},
   "outputs": [],
   "source": [
    "# Charger l'overlay du DPU\n",
    "overlay = DpuOverlay(\"dpu.bit\")\n",
    "overlay.load_model(\"_MLP_int.xmodel.xmodel\") "
   ]
  },
  {
   "cell_type": "code",
   "execution_count": null,
   "id": "6f1c337e-e6a3-4533-8ca9-b86420ba2260",
   "metadata": {},
   "outputs": [],
   "source": [
    "dpu = overlay.runner  # Récupérer le runner"
   ]
  },
  {
   "cell_type": "code",
   "execution_count": null,
   "id": "15b34777-da46-477e-aa8c-f5c3734d976f",
   "metadata": {},
   "outputs": [],
   "source": [
    "# Charger la dataset\n",
    "file_path = \"SWaT_Dataset_Attack_v0.csv\"\n",
    "df = pd.read_csv(file_path)"
   ]
  },
  {
   "cell_type": "code",
   "execution_count": null,
   "id": "8c582426-1ed1-4c7f-a7f0-2754d50b8ede",
   "metadata": {},
   "outputs": [],
   "source": [
    "X = df.iloc[:, :-1].values  # Features\n",
    "y = df.iloc[:, -1].values   # Labels"
   ]
  },
  {
   "cell_type": "code",
   "execution_count": null,
   "id": "730f4a54-ef4a-406e-bf73-2ba12455f823",
   "metadata": {},
   "outputs": [],
   "source": [
    "# Encoder les labels: \"Normal\" -> 0, \"Attack\" -> 1\n",
    "y = np.where(y == \"Normal\", 0, 1)"
   ]
  },
  {
   "cell_type": "code",
   "execution_count": null,
   "id": "bdc54006-0e27-4383-a371-713b12aeb5fc",
   "metadata": {},
   "outputs": [],
   "source": [
    "# Normalisation des données\n",
    "scaler = StandardScaler()\n",
    "X = scaler.fit_transform(X)"
   ]
  },
  {
   "cell_type": "code",
   "execution_count": null,
   "id": "c3652223-38bb-4fc0-bb2f-65ecb2140b5d",
   "metadata": {},
   "outputs": [],
   "source": [
    "# Sélection de 50000 échantillons \"Normal\" et 50000 \"Attack\"\n",
    "normal_samples = X[y == 0][:50000]\n",
    "attack_samples = X[y == 1][:50000]\n",
    "test_samples = np.vstack((normal_samples, attack_samples)).astype(np.float32)"
   ]
  },
  {
   "cell_type": "code",
   "execution_count": null,
   "id": "22c7e4ce-cd63-4aa3-8ad5-84c7103b531f",
   "metadata": {},
   "outputs": [],
   "source": [
    "test_samples.shape[0]"
   ]
  },
  {
   "cell_type": "code",
   "execution_count": null,
   "id": "f4dfa432-6393-464a-acc4-35d25620e70a",
   "metadata": {},
   "outputs": [],
   "source": [
    "# Récupérer les tenseurs d'entrée et de sortie du DPU\n",
    "inputTensors = dpu.get_input_tensors()\n",
    "outputTensors = dpu.get_output_tensors()"
   ]
  },
  {
   "cell_type": "code",
   "execution_count": null,
   "id": "e6c47eb7-2cc2-4ce7-8c6d-dced692ea41e",
   "metadata": {},
   "outputs": [],
   "source": [
    "shapeIn = tuple(inputTensors[0].dims)  # Forme des entrées\n",
    "shapeOut = tuple(outputTensors[0].dims)  # Forme des sorties\n",
    "batch_size = shapeIn[0]  # Taille du batch du DPU"
   ]
  },
  {
   "cell_type": "code",
   "execution_count": null,
   "id": "9f097e94-9f96-44f5-97a4-dccb63923743",
   "metadata": {},
   "outputs": [],
   "source": [
    "# Préparer les buffers d'entrée et de sortie\n",
    "input_data = [np.empty(shapeIn, dtype=np.float32, order=\"C\")]\n",
    "output_data = [np.empty(shapeOut, dtype=np.float32, order=\"C\")]"
   ]
  },
  {
   "cell_type": "code",
   "execution_count": null,
   "id": "ef92846a-ba4a-49c9-9211-f8d989cf99f2",
   "metadata": {},
   "outputs": [],
   "source": [
    "# Stocker les résultats de prédiction\n",
    "predictions = []"
   ]
  },
  {
   "cell_type": "code",
   "execution_count": null,
   "id": "f949d9e3-a7b6-43c0-b2fd-9fa398d83ad9",
   "metadata": {},
   "outputs": [],
   "source": [
    "# Exécuter l'inférence batch par batch\n",
    "for i in range(0, test_samples.shape[0], batch_size):\n",
    "    batch = test_samples[i : i + batch_size]\n",
    "\n",
    "    # S'assurer que la taille correspond au tenseur du DPU\n",
    "    if batch.shape[0] < batch_size:\n",
    "        pad = np.zeros((batch_size - batch.shape[0], batch.shape[1]), dtype=np.float32)\n",
    "        batch = np.vstack((batch, pad))  # Ajouter du padding si nécessaire\n",
    "\n",
    "    # Copier les données dans le buffer d'entrée\n",
    "    input_data[0][:] = batch.reshape(shapeIn)\n",
    "\n",
    "    # Lancer l'inférence\n",
    "    job_id = dpu.execute_async(input_data, output_data)\n",
    "    dpu.wait(job_id)\n",
    "\n",
    "    # Récupérer les résultats\n",
    "    result = output_data[0][: batch.shape[0]]  # Enlever le padding éventuel\n",
    "    predictions.append(np.argmax(result, axis=1))"
   ]
  },
  {
   "cell_type": "code",
   "execution_count": null,
   "id": "3d43cfa1-cce2-4039-9961-ad55d781dd19",
   "metadata": {},
   "outputs": [],
   "source": [
    "# Convertir la liste en un tableau numpy\n",
    "predicted = np.concatenate(predictions, axis=0)[: test_samples.shape[0]]  # Supprimer le padding"
   ]
  },
  {
   "cell_type": "code",
   "execution_count": null,
   "id": "d3f92436-faff-4923-81cb-098bcac90d3e",
   "metadata": {},
   "outputs": [],
   "source": [
    "# Calculer l'accuracy manuellement\n",
    "accuracy = np.mean(y[:100000] == predicted)\n",
    "\n",
    "# Afficher la précision en pourcentage\n",
    "print(f\"Précision: {accuracy * 100:.2f}%\")"
   ]
  },
  {
   "cell_type": "code",
   "execution_count": null,
   "id": "923fd0ff-966c-46cb-9eec-01503ef1c3f7",
   "metadata": {},
   "outputs": [],
   "source": [
    "del dpu"
   ]
  },
  {
   "cell_type": "code",
   "execution_count": null,
   "id": "08cc9e3d-336c-440b-a9d1-d0fcf18742ae",
   "metadata": {},
   "outputs": [],
   "source": [
    "del overlay"
   ]
  }
 ],
 "metadata": {
  "kernelspec": {
   "display_name": "Python 3 (ipykernel)",
   "language": "python",
   "name": "python3"
  },
  "language_info": {
   "codemirror_mode": {
    "name": "ipython",
    "version": 3
   },
   "file_extension": ".py",
   "mimetype": "text/x-python",
   "name": "python",
   "nbconvert_exporter": "python",
   "pygments_lexer": "ipython3",
   "version": "3.12.3"
  }
 },
 "nbformat": 4,
 "nbformat_minor": 5
}
