{
 "cells": [
  {
   "cell_type": "code",
   "execution_count": null,
   "id": "f9dab8e4-12e3-4b9e-8334-d5c53088993f",
   "metadata": {},
   "outputs": [],
   "source": []
  }
 ],
 "metadata": {
  "kernelspec": {
   "display_name": "",
   "name": ""
  },
  "language_info": {
   "name": ""
  }
 },
 "nbformat": 4,
 "nbformat_minor": 5
}
